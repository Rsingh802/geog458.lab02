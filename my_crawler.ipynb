{
  "cells": [
    {
      "cell_type": "code",
      "execution_count": 1,
      "metadata": {
        "id": "EtnaSlH-wplB"
      },
      "outputs": [],
      "source": [
        "# created on Dec 24, 2020\n",
        "# modified on April 12, 2022\n",
        "# @author:          Bo Zhao\n",
        "# @email:           zhaobo@uw.edu\n",
        "# @website:         https://hgis.uw.edu\n",
        "# @organization:    Department of Geography, University of Washington, Seattle\n",
        "# @description:     Search geo-tagged tweets within the U.S. This script is modified from https://github.com/shawn-terryah/Twitter_Geolocation"
      ]
    },
    {
      "cell_type": "code",
      "execution_count": 2,
      "metadata": {
        "colab": {
          "base_uri": "https://localhost:8080/"
        },
        "id": "f-bMdKMawxnQ",
        "outputId": "add3a5bd-cf17-4d9e-b802-cf435fe12c5b"
      },
      "outputs": [
        {
          "name": "stdout",
          "output_type": "stream",
          "text": [
            "Mounted at /gdrive\n"
          ]
        }
      ],
      "source": [
        "import tweepy, json, time\n",
        "import pandas as pd\n",
        "from google.colab import files\n",
        "# Create data on to Google Drive\n",
        "from google.colab import drive\n",
        "# Mount your Drive to the Colab VM.\n",
        "drive.mount('/gdrive')"
      ]
    },
    {
      "cell_type": "code",
      "execution_count": 3,
      "metadata": {
        "id": "dEyPts-ZwplE"
      },
      "outputs": [],
      "source": [
        "class StreamListener(tweepy.StreamListener):\n",
        "    \"\"\"tweepy.StreamListener is a class provided by tweepy used to access\n",
        "    the Twitter Streaming API to collect tweets in real-time.\n",
        "    \"\"\"\n",
        "\n",
        "    def __init__(self, time_limit=60, file=\"\"):\n",
        "        \"\"\"class initialization\"\"\"\n",
        "        self.start_time = time.time()\n",
        "        self.limit = time_limit\n",
        "        self.result = []\n",
        "        self.f = file\n",
        "        super(StreamListener, self).__init__()\n",
        "\n",
        "    def on_data(self, data):\n",
        "        \"\"\"This is called when data are streamed in.\"\"\"\n",
        "        if (time.time() - self.start_time) < self.limit:\n",
        "            datajson = json.loads(data)\n",
        "            # print(datajson, \"\\n\")\n",
        "            if 'id' not in datajson.keys():\n",
        "                time.sleep(10)\n",
        "            else:\n",
        "                id = datajson['id']\n",
        "                username = datajson['user']['screen_name']\n",
        "                created_at = datajson['created_at']\n",
        "                text = datajson['text'].strip().replace(\"\\n\", \"\")\n",
        "\n",
        "                # process the geo-tags\n",
        "                if datajson['coordinates'] == None:\n",
        "                    try:\n",
        "                        bbox = datajson['place']['bounding_box']['coordinates'][0]\n",
        "                        lng = (bbox[0][0] + bbox[2][0]) / 2.0\n",
        "                        lat = (bbox[0][1] + bbox[1][1]) / 2.0\n",
        "                    except:\n",
        "                        lat = 0\n",
        "                        lng = 0\n",
        "                else:\n",
        "                    lng = datajson['coordinates']['coordinates'][0]\n",
        "                    lat = datajson['coordinates']['coordinates'][1]\n",
        "\n",
        "                if lat != 0:\n",
        "                    row = {\n",
        "                        'id': id,\n",
        "                        'username': username,\n",
        "                        'created_at': created_at,\n",
        "                        'lng': lng,\n",
        "                        'lat': lat,\n",
        "                        'text': text\n",
        "                    }\n",
        "                    print(row)\n",
        "                    self.result.append(row)\n",
        "                else:\n",
        "                    pass\n",
        "        else:\n",
        "            df = pd.DataFrame(self.result)\n",
        "            df.to_csv(self.f, index=False)\n",
        "            # download the csv to your local computer\n",
        "            files.download(self.f)\n",
        "            print(\"the csv has been downloaded to your local computer. The program has been completed successfully.\")\n",
        "            return False"
      ]
    },
    {
      "cell_type": "code",
      "execution_count": 7,
      "metadata": {
        "colab": {
          "base_uri": "https://localhost:8080/",
          "height": 1000
        },
        "id": "5Xzyo_OiwplG",
        "outputId": "05005cad-80f3-4dfa-b9d9-fb4da3010260"
      },
      "outputs": [
        {
          "name": "stdout",
          "output_type": "stream",
          "text": [
            "{'id': 1516250739894632458, 'username': 'TorreRellotge', 'created_at': 'Tue Apr 19 03:02:01 +0000 2022', 'lng': 1.893817, 'lat': 41.545639, 'text': 'DONG DONG DONG DONG DONG!!!!!'}\n",
            "{'id': 1516250750275534859, 'username': 'ShortySan1986', 'created_at': 'Tue Apr 19 03:02:04 +0000 2022', 'lng': -2.772015, 'lat': 55.428405, 'text': \"Looks like it's happening!!! https://t.co/N4AxLtIRZv\"}\n",
            "{'id': 1516250759620354051, 'username': 'kuzukito', 'created_at': 'Tue Apr 19 03:02:06 +0000 2022', 'lng': -9.0333065, 'lat': 51.903863, 'text': 'Do you remember when you joined Twitter? I do! #MyTwitterAnniversary https://t.co/A5GHCxsuGD'}\n",
            "{'id': 1516250814049882114, 'username': 'KrisMonkeyDay', 'created_at': 'Tue Apr 19 03:02:19 +0000 2022', 'lng': -1.423629, 'lat': 54.881608, 'text': '😂😂 ha ha. Creased at this like.'}\n",
            "{'id': 1516250860266864648, 'username': 'bishopstonwthr', 'created_at': 'Tue Apr 19 03:02:30 +0000 2022', 'lng': -2.596979, 'lat': 51.478303, 'text': '03:56 BST: Temperature: 6.3°C, Wind: S, 0 mph (ave), 1 mph (gust), Humidity: 92%, Rain (hourly) 0.0 mm, Pressure: 1002 hPa, falling slowly'}\n",
            "{'id': 1516250886674202624, 'username': 'AsimAli_7119', 'created_at': 'Tue Apr 19 03:02:36 +0000 2022', 'lng': -1.664672, 'lat': 53.7018195, 'text': '@SyedaTanya Dear check her information. She is idiots of the year#امپورٹڈ_گورنمنٹ_نامنظور https://t.co/ramUhxwnet'}\n",
            "{'id': 1516250887974436870, 'username': 'odrikez', 'created_at': 'Tue Apr 19 03:02:36 +0000 2022', 'lng': 4.431448, 'lat': 50.848416, 'text': \"@timevalueofbtc Btw, there's a @timevaleofbtc account with 12K subscribers out there... watch out\"}\n",
            "{'id': 1516250931687481348, 'username': 'Jzcheniah', 'created_at': 'Tue Apr 19 03:02:47 +0000 2022', 'lng': 30.055782999999998, 'lat': 40.845405, 'text': \"6:02 am and Im still awake. Yep that's how messed up my sleeping routine \\U0001f972\"}\n",
            "{'id': 1516250936410267648, 'username': 'Skoach05', 'created_at': 'Tue Apr 19 03:02:48 +0000 2022', 'lng': -3.0394275, 'lat': 53.362693, 'text': '@celtic2310 @BrianMa66991929 People are scum. Look at City with the minutes silence on Saturday. No respect'}\n",
            "{'id': 1516250986083504130, 'username': '_sampsonfredric', 'created_at': 'Tue Apr 19 03:03:00 +0000 2022', 'lng': 10.926673, 'lat': 44.561615, 'text': '@OmoKeyinde9 @jhenifa_ 21st May too 😊'}\n",
            "{'id': 1516250987425632261, 'username': 'SethsalamUllah', 'created_at': 'Tue Apr 19 03:03:00 +0000 2022', 'lng': 12.249915, 'lat': 55.588027499999995, 'text': '#امپورٹڈ_حکومت_نامنظور  with pakistan stand'}\n",
            "{'id': 1516250987643744263, 'username': 'swedenqueenlk', 'created_at': 'Tue Apr 19 03:03:00 +0000 2022', 'lng': 12.934894, 'lat': 55.5798575, 'text': '@w_white18 Goodmorning beautifull from Malmö Sweden 👏☀️☀️☀️its 5 in the morning now 😴😴 Love U FOREVER 🙄🔥😍🥰🇸🇪'}\n",
            "{'id': 1516250994514051075, 'username': '_KCorso', 'created_at': 'Tue Apr 19 03:03:02 +0000 2022', 'lng': -2.271766, 'lat': 53.517831, 'text': '4 Days To Go ⏰ 🥊 #FuryWhyte  Super Excited !!!! Let’s Go!!!!!!!! https://t.co/4Qka8an0ke'}\n",
            "{'id': 1516251058275823631, 'username': 'WistfulCass', 'created_at': 'Tue Apr 19 03:03:17 +0000 2022', 'lng': -1.5186514999999998, 'lat': 52.411913, 'text': 'Hey, Tory voters! Watch this 👇then consider whether lying, b*stard below deserves your vote again 🤥#JohnsonOut84… https://t.co/R9hANVMIHI'}\n",
            "{'id': 1516251069650771975, 'username': 'lodi_tiziana', 'created_at': 'Tue Apr 19 03:03:20 +0000 2022', 'lng': 9.170774999999999, 'lat': 44.744214, 'text': 'The Alexandria Times https://t.co/F3P1JvI0Dy'}\n",
            "{'id': 1516251088646717444, 'username': 'shaktipd', 'created_at': 'Tue Apr 19 03:03:24 +0000 2022', 'lng': 0.076559, 'lat': 51.50644, 'text': 'Improving soil quality results in 20-40% increase in crop production @cpsavesoil #SaveSoil https://t.co/JO2BwgnT7B'}\n",
            "{'id': 1516251123560198145, 'username': 'fmm939', 'created_at': 'Tue Apr 19 03:03:33 +0000 2022', 'lng': -3.713356, 'lat': 40.47177, 'text': \"@Native3rd Yes, that's how it is.Good Nigth from Madrid 🇪🇸España Rest, Dream.Happy Dawn🦋♥️🖤🌈 https://t.co/rCN15kY4GE\"}\n",
            "{'id': 1516251128190889984, 'username': 'therailwayman66', 'created_at': 'Tue Apr 19 03:03:34 +0000 2022', 'lng': -1.0669855, 'lat': 50.818864500000004, 'text': '@alanheard14 @Rachelpreston71 @SarahCo66295526 Cheers Al 👍'}\n",
            "{'id': 1516251161447342081, 'username': 'poseidon_1501', 'created_at': 'Tue Apr 19 03:03:42 +0000 2022', 'lng': 27.006511, 'lat': 38.4079305, 'text': '823. Heavenly - İlahi.'}\n",
            "{'id': 1516251179931652097, 'username': 'bobjimrob', 'created_at': 'Tue Apr 19 03:03:46 +0000 2022', 'lng': -0.2708845, 'lat': 51.94962, 'text': '@CardyFreddie @MaracAndrzej @HitchinTownFC @RowanScourfield @FScourfield08 Thanks @CardyFreddie for bringing the ga… https://t.co/O4kj57BFLl'}\n",
            "{'id': 1516251180049051652, 'username': 'ben_k_99', 'created_at': 'Tue Apr 19 03:03:46 +0000 2022', 'lng': -4.2914215, 'lat': 55.794269, 'text': 'Good God almighty'}\n",
            "{'id': 1516251184096550914, 'username': 'Migscellin', 'created_at': 'Tue Apr 19 03:03:47 +0000 2022', 'lng': -5.1173, 'lat': 50.262061, 'text': \"Abi is wylin' out on Twitter rn\"}\n",
            "{'id': 1516251187024117761, 'username': 'Tom___06', 'created_at': 'Tue Apr 19 03:03:48 +0000 2022', 'lng': 7.1047715, 'lat': 43.582334, 'text': 'GOOD D !'}\n",
            "{'id': 1516251211057532928, 'username': 'hajersart', 'created_at': 'Tue Apr 19 03:03:53 +0000 2022', 'lng': -1.6453615, 'lat': 54.9920555, 'text': 'Won’t you visit me in my dreams tonight?'}\n",
            "{'id': 1516251216367476741, 'username': 'FloBVB180', 'created_at': 'Tue Apr 19 03:03:55 +0000 2022', 'lng': 9.15245, 'lat': 47.708929, 'text': 'Steph/Klay/JP/Wiggins/Draymond - there’s no better lineup in the league!! #DubNation'}\n",
            "{'id': 1516251228715556871, 'username': 'revmaryhawes', 'created_at': 'Tue Apr 19 03:03:58 +0000 2022', 'lng': -0.306996, 'lat': 51.4405145, 'text': 'Ah 4am - what a relief to see you after 3 hours awake.... https://t.co/3mdpjZmmjj'}\n",
            "{'id': 1516251231618015236, 'username': 'hassantz45', 'created_at': 'Tue Apr 19 03:03:58 +0000 2022', 'lng': 30.680889, 'lat': 36.89007, 'text': 'One of the prime trips of Tanzania Safari Adventure, Serengeti national Park is the land of magic as it is named as… https://t.co/NStbBAkPJj'}\n",
            "{'id': 1516251256108597252, 'username': 'ben_k_99', 'created_at': 'Tue Apr 19 03:04:04 +0000 2022', 'lng': -4.2914215, 'lat': 55.794269, 'text': 'Definition of a slow news day'}\n",
            "{'id': 1516251267487744002, 'username': 'JamesYeabo', 'created_at': 'Tue Apr 19 03:04:07 +0000 2022', 'lng': -0.5701175, 'lat': 51.236420499999994, 'text': \"@evoauYT Don't sub to my YT channel :) https://t.co/l4eFw4No56\"}\n",
            "{'id': 1516251331077492740, 'username': 'ArsGratiaArtis1', 'created_at': 'Tue Apr 19 03:04:22 +0000 2022', 'lng': -6.395315500000001, 'lat': 52.957955999999996, 'text': '@jimrosecircus1 That banging on the door offered up so many possibilities... https://t.co/7wxGv39jHQ'}\n",
            "{'id': 1516251338753163275, 'username': 'TimoWaris', 'created_at': 'Tue Apr 19 03:04:24 +0000 2022', 'lng': 24.429752, 'lat': 61.4712615, 'text': 'Good Morning Friends ✝️⚓❤️#thecelticchristiantradition #cslewis https://t.co/lD9ZC1NtrR'}\n",
            "{'id': 1516251375197462528, 'username': 'xt76f', 'created_at': 'Tue Apr 19 03:04:33 +0000 2022', 'lng': -2.1270405, 'lat': 57.160556, 'text': \"Bednoise -U HAVE No 04:01am Right Gucci Stigma Wrist IDEA WHO UR FUCKIN' DEALING WITH 0 4 0 2 left rib I told you y… https://t.co/68vtfNOyK0\"}\n",
            "{'id': 1516251427559067648, 'username': 'AtifAli46402429', 'created_at': 'Tue Apr 19 03:04:45 +0000 2022', 'lng': 12.841322, 'lat': 43.897421, 'text': 'This is not fear 😨 I don\\'t accept This government\"#امپورٹڈ_حکومت_نامنظور#امپورٹڈ_حکومت_نامنظور'}\n",
            "{'id': 1516251438325936128, 'username': 'AsimAli_7119', 'created_at': 'Tue Apr 19 03:04:48 +0000 2022', 'lng': -1.664672, 'lat': 53.7018195, 'text': '@SyedaTanya Research per bi lanat oris dadu charger per bi lanat'}\n",
            "{'id': 1516251453555462151, 'username': 'AirWaterSnow', 'created_at': 'Tue Apr 19 03:04:51 +0000 2022', 'lng': 8.636605500000002, 'lat': 50.1212355, 'text': '@BoringPrufrock But you are trying to argue with an actual Physicist who has a PhD on points u have no base level o… https://t.co/PUYerKaqXz'}\n",
            "{'id': 1516251466687782919, 'username': 'turningleftfor', 'created_at': 'Tue Apr 19 03:04:54 +0000 2022', 'lng': -0.2527539999999999, 'lat': 51.3854455, 'text': 'It would appear TSA are not enforcing masks along with AA and United. Typical it happens Monday when I flew at the… https://t.co/MuUWce1xRm'}\n",
            "{'id': 1516251471569948673, 'username': 'JamesSilvester1', 'created_at': 'Tue Apr 19 03:04:56 +0000 2022', 'lng': -2.23348, 'lat': 53.4569525, 'text': 'This has all the hallmarks of being a long, sleepless night…'}\n",
            "{'id': 1516251484979138567, 'username': 'Michael29109661', 'created_at': 'Tue Apr 19 03:04:59 +0000 2022', 'lng': -3.2030085, 'lat': 55.9431955, 'text': \"Where'd they go 🤔😏🤣😭😭😭😭😭😭😭 https://t.co/w6EzI8RHiW\"}\n",
            "{'id': 1516251497146814466, 'username': 'bordersweather', 'created_at': 'Tue Apr 19 03:05:02 +0000 2022', 'lng': -2.44, 'lat': 55.71, 'text': 'Sun Elevation for Tuesday, 19th April 2022 #solarelevation #springDaylight: 14 hrs, 28 mins https://t.co/3JHuXpjEgy'}\n",
            "{'id': 1516251516725870592, 'username': 'Meteo_RLD', 'created_at': 'Tue Apr 19 03:05:06 +0000 2022', 'lng': 5.61944444, 'lat': 53.25527778, 'text': 'Wind 0 km/h ---. Barometer 1013,0 hPa, Pressure trend. Temperature 7,6 °C. Rain today 0,0mm. Humidity 76%'}\n",
            "{'id': 1516251527912083456, 'username': 'kamranhanif11', 'created_at': 'Tue Apr 19 03:05:09 +0000 2022', 'lng': 9.0380845, 'lat': 45.627349499999994, 'text': '@Imranrazikhan @HaroonS64449946 Not acceptable'}\n",
            "{'id': 1516251546304012295, 'username': 'Verywimp', 'created_at': 'Tue Apr 19 03:05:13 +0000 2022', 'lng': 5.452997, 'lat': 51.448454999999996, 'text': 'beautifuul cat and kittens'}\n",
            "{'id': 1516251606190370826, 'username': '_sampsonfredric', 'created_at': 'Tue Apr 19 03:05:28 +0000 2022', 'lng': 10.926673, 'lat': 44.561615, 'text': \"@brandne0 @OmoKeyinde9 @jhenifa_ I'm May 21st too\"}\n",
            "{'id': 1516251618945155081, 'username': 'HBeats4JessieJ', 'created_at': 'Tue Apr 19 03:05:31 +0000 2022', 'lng': 0.135916, 'lat': 52.200974, 'text': 'I’ll always love everything about the lovely and kind @BabbleOnBrooke ❤️'}\n",
            "{'id': 1516251621889658884, 'username': 'Javiatm02', 'created_at': 'Tue Apr 19 03:05:31 +0000 2022', 'lng': -5.923545000000001, 'lat': 37.38319799999999, 'text': 'Death lineup.'}\n",
            "{'id': 1516251632169852937, 'username': 'PE_SchifThi', 'created_at': 'Tue Apr 19 03:05:34 +0000 2022', 'lng': 4.835099, 'lat': 45.757821500000006, 'text': \"WHEN IN FRANCE MF ???????? Can't wait to top it on the first place 😘The rank it deserves… https://t.co/grCYyNQ0Qf\"}\n",
            "{'id': 1516251638192820229, 'username': 'Delina874374845', 'created_at': 'Tue Apr 19 03:05:35 +0000 2022', 'lng': 4.7687349999999995, 'lat': 52.468465, 'text': '@russellcrowe Beautiful thanks'}\n",
            "{'id': 1516251647739105281, 'username': 'usman_najmal', 'created_at': 'Tue Apr 19 03:05:38 +0000 2022', 'lng': -1.172266, 'lat': 52.969719, 'text': 'Am a BOT from Nottinghamshire, England #امپورٹڈ_حکومت_نامنظور https://t.co/rp3GCCULVb'}\n",
            "{'id': 1516251733164503053, 'username': 'Skoach05', 'created_at': 'Tue Apr 19 03:05:58 +0000 2022', 'lng': -3.0394275, 'lat': 53.362693, 'text': \"@Loujae89 You'll be saying the same about me  soon\"}\n",
            "{'id': 1516251733676240913, 'username': 'slackerfromdk', 'created_at': 'Tue Apr 19 03:05:58 +0000 2022', 'lng': 9.4545085, 'lat': 55.469382, 'text': \"Check out my Raid Recap. Think you can do better? Use this link and get started and we'll both get a bunch of free… https://t.co/zhi6YTv728\"}\n",
            "{'id': 1516251746519113731, 'username': 'TheaaVt', 'created_at': 'Tue Apr 19 03:06:01 +0000 2022', 'lng': 25.4817455, 'lat': 42.725232, 'text': 'When you mess the accounts and begin to comment and share on your personal one 🤦🏻\\u200d♀️'}\n",
            "{'id': 1516251759970295818, 'username': 'pudge808', 'created_at': 'Tue Apr 19 03:06:04 +0000 2022', 'lng': -3.0054, 'lat': 51.1291865, 'text': '@EuroCreisy @ljubavjesvudaa Cheating? By singing in their native tongue?! - it would be a bit odd if either the UK… https://t.co/2ep5TzUIgm'}\n",
            "{'id': 1516251774365184007, 'username': 'Mertglarslan', 'created_at': 'Tue Apr 19 03:06:08 +0000 2022', 'lng': 29.005222500000002, 'lat': 41.0213205, 'text': 'LETS GO WARRİORSSSSSS'}\n",
            "{'id': 1516251795621920773, 'username': 'Dragbanksrobbin', 'created_at': 'Tue Apr 19 03:06:13 +0000 2022', 'lng': -2.23348, 'lat': 53.4569525, 'text': '@brookegxwsh Why is this resurfacing!!!'}\n",
            "{'id': 1516251816039751685, 'username': '__Asad_Ali__', 'created_at': 'Tue Apr 19 03:06:18 +0000 2022', 'lng': 23.5035255, 'lat': 37.0817305, 'text': '|￣￣￣￣￣￣￣￣￣￣￣￣￣￣￣|                #امپورٹڈ_حکومت_نامنظور  |＿＿＿＿＿＿＿＿＿＿＿＿＿＿＿|                     \\\\ (•◡•) /… https://t.co/XtIdKE5IFU'}\n",
            "{'id': 1516251831315443715, 'username': 'stefanpostulart', 'created_at': 'Tue Apr 19 03:06:21 +0000 2022', 'lng': 4.280829, 'lat': 52.1031775, 'text': 'Morning!'}\n",
            "{'id': 1516251846775652357, 'username': 'strognox', 'created_at': 'Tue Apr 19 03:06:25 +0000 2022', 'lng': 6.7773520000000005, 'lat': 52.252329, 'text': \"Drinking coke at night is NEVER a good idea. I couldn't fucking sleep\"}\n",
            "{'id': 1516251850139394050, 'username': 'RadioTeddyMusic', 'created_at': 'Tue Apr 19 03:06:26 +0000 2022', 'lng': 13.1199934, 'lat': 52.381905, 'text': '#nowplaying #Jawsh685xJasonDerulo ~ Jawsh 685 x Jason Derulo | Savage Love (Laxed - Siren Beat) ||| Radio TEDDY - In #Apolda auf 99.5'}\n",
            "{'id': 1516251851573837826, 'username': 'Orgetorix', 'created_at': 'Tue Apr 19 03:06:26 +0000 2022', 'lng': 12.5526325, 'lat': 55.6727755, 'text': 'Powerful ‘Trojan horse’ spyware found on Downing Street phone, researchers say https://t.co/Is1mZNeK4v'}\n",
            "{'id': 1516251854744793088, 'username': '__wa1877', 'created_at': 'Tue Apr 19 03:06:27 +0000 2022', 'lng': 19.129828, 'lat': 47.4812305, 'text': 'Ffs gotta check out in less than 5 hours and we’ve just got back, not great!'}\n",
            "{'id': 1516251869366128640, 'username': 'therailwayman66', 'created_at': 'Tue Apr 19 03:06:30 +0000 2022', 'lng': -1.0669855, 'lat': 50.818864500000004, 'text': \"It's a toss up who's on rpgtv more, Dave Gray or Dave Johnson 🤔 🤔🤔🤔\"}\n",
            "{'id': 1516251890702561281, 'username': '_KCorso', 'created_at': 'Tue Apr 19 03:06:35 +0000 2022', 'lng': -2.23348, 'lat': 53.4569525, 'text': '4 Days To Go #FuryWhyte  Let’s Go !!!!! @Tyson_Fury @DillianWhyte @frankwarren_tv Excited 🍿 https://t.co/YX56wcsynN'}\n",
            "{'id': 1516251917080571907, 'username': 'cknnr', 'created_at': 'Tue Apr 19 03:06:42 +0000 2022', 'lng': 0.159749, 'lat': 51.866310999999996, 'text': 'PETTEREEYYYYYYYY #Canucks'}\n",
            "{'id': 1516251964681728003, 'username': 'strognox', 'created_at': 'Tue Apr 19 03:06:53 +0000 2022', 'lng': 6.7773520000000005, 'lat': 52.252329, 'text': \"It's already 5am ffs naj\"}\n",
            "{'id': 1516251983753236483, 'username': 'AsimAli_7119', 'created_at': 'Tue Apr 19 03:06:58 +0000 2022', 'lng': -1.664672, 'lat': 53.7018195, 'text': '@iihtishamm Hahahaha.Really check her information and Resources and idiots Research team.. #امپورٹڈ_گورنمنٹ_نامنظور https://t.co/kxG2wigrTV'}\n"
          ]
        },
        {
          "data": {
            "application/javascript": "\n    async function download(id, filename, size) {\n      if (!google.colab.kernel.accessAllowed) {\n        return;\n      }\n      const div = document.createElement('div');\n      const label = document.createElement('label');\n      label.textContent = `Downloading \"${filename}\": `;\n      div.appendChild(label);\n      const progress = document.createElement('progress');\n      progress.max = size;\n      div.appendChild(progress);\n      document.body.appendChild(div);\n\n      const buffers = [];\n      let downloaded = 0;\n\n      const channel = await google.colab.kernel.comms.open(id);\n      // Send a message to notify the kernel that we're ready.\n      channel.send({})\n\n      for await (const message of channel.messages) {\n        // Send a message to notify the kernel that we're ready.\n        channel.send({})\n        if (message.buffers) {\n          for (const buffer of message.buffers) {\n            buffers.push(buffer);\n            downloaded += buffer.byteLength;\n            progress.value = downloaded;\n          }\n        }\n      }\n      const blob = new Blob(buffers, {type: 'application/binary'});\n      const a = document.createElement('a');\n      a.href = window.URL.createObjectURL(blob);\n      a.download = filename;\n      div.appendChild(a);\n      a.click();\n      div.remove();\n    }\n  ",
            "text/plain": [
              "<IPython.core.display.Javascript object>"
            ]
          },
          "metadata": {},
          "output_type": "display_data"
        },
        {
          "data": {
            "application/javascript": "download(\"download_5c76e409-f797-4525-a7cb-79e75344c8f8\", \"geotweets.csv\", 11146)",
            "text/plain": [
              "<IPython.core.display.Javascript object>"
            ]
          },
          "metadata": {},
          "output_type": "display_data"
        },
        {
          "name": "stdout",
          "output_type": "stream",
          "text": [
            "the csv has been downloaded to your local computer. The program has been completed successfully.\n"
          ]
        }
      ],
      "source": [
        "if __name__ == \"__main__\":\n",
        "    # These are provided to you through the Twitter API after you create a account\n",
        "    # register a Twitter App to get the keys and access tokens.\n",
        "    output_file = '/gdrive/My Drive/geotweets.csv'\n",
        "\n",
        "    # Apply for your own Twitter API keys at https://developer.twitter.com/en/apply-for-access\n",
        "    consumer_key = \"\"\n",
        "    consumer_secret = \"\"\n",
        "    access_token = \"\"\n",
        "    access_token_secret = \"\"\n",
        "\n",
        "    myauth = tweepy.OAuthHandler(consumer_key, consumer_secret)\n",
        "    myauth.set_access_token(access_token, access_token_secret)\n",
        "\n",
        "    # LOCATIONS are the longitude, latitude coordinate corners for a box that restricts the\n",
        "    # geographic area from which you will stream tweets. The first two define the southwest\n",
        "    # corner of the box and the second two define the northeast corner of the box.\n",
        "    LOCATIONS = [-11.908419, 36.311530, 41.544370, 71.548697]  # Europe\n",
        "\n",
        "\n",
        "    stream_listener = StreamListener(time_limit=300, file=output_file)\n",
        "    stream = tweepy.Stream(auth=myauth, listener=stream_listener)\n",
        "    stream.filter(locations=LOCATIONS, track=['fake news'], languages=['en'], encoding=\"utf-8\")"
      ]
    }
  ],
  "metadata": {
    "colab": {
      "collapsed_sections": [],
      "name": "Copy of 02_geosearch.ipynb",
      "provenance": []
    },
    "kernelspec": {
      "display_name": "Python 3",
      "language": "python",
      "name": "python3"
    },
    "language_info": {
      "codemirror_mode": {
        "name": "ipython",
        "version": 3
      },
      "file_extension": ".py",
      "mimetype": "text/x-python",
      "name": "python",
      "nbconvert_exporter": "python",
      "pygments_lexer": "ipython3",
      "version": "3.7.4"
    }
  },
  "nbformat": 4,
  "nbformat_minor": 0
}
